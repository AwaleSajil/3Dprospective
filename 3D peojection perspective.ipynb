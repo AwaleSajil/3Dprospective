{
 "cells": [
  {
   "cell_type": "code",
   "execution_count": 36,
   "metadata": {},
   "outputs": [],
   "source": [
    "import numpy as np\n",
    "from matplotlib import pyplot as plt\n",
    "from math import sin, cos, radians\n",
    "%matplotlib inline"
   ]
  },
  {
   "cell_type": "code",
   "execution_count": 37,
   "metadata": {},
   "outputs": [],
   "source": [
    "def perspective(point):\n",
    "    #point is np array of order (1,3) with x,y and z component\n",
    "    A = (Prp[2] - Z_vp)/(Prp[2] - point[2])\n",
    "    B = (Z_vp - point[2])/(Prp[2] - point[2])\n",
    "    newpoint = point*A + Prp*B\n",
    "    return newpoint"
   ]
  },
  {
   "cell_type": "code",
   "execution_count": 38,
   "metadata": {},
   "outputs": [],
   "source": [
    "def drawcube(Pcube):\n",
    "    #Pcube is an array of order (8, 2) containing projected  2d cordinate (x,y)\n",
    "    plt.scatter(Pcube[:,0], Pcube[:,1])\n",
    "    plt.plot(np.append(Pcube[0:4,0], Pcube[0,0]), np.append(Pcube[0:4,1], Pcube[0,1]), c = 'g')\n",
    "    plt.plot(np.append(Pcube[4:8,0], Pcube[4,0]), np.append(Pcube[4:8,1], Pcube[4,1]), c = 'g')\n",
    "    for i in range(4):\n",
    "        x = [Pcube[i,0], Pcube[i+4,0]]\n",
    "        y = [Pcube[i,1], Pcube[i+4,1]]\n",
    "        plt.plot(x,y, c = 'g')\n"
   ]
  },
  {
   "cell_type": "code",
   "execution_count": 52,
   "metadata": {},
   "outputs": [],
   "source": [
    "def rotate(tx,ty,tz, cube):\n",
    "    #for rotation about x, y and z axis with angles tx,ty ,tz respectibvely \n",
    "    #cube is array of order (8,3) with 8 3d cordinates of actual cube in world space\n",
    "    A = {'x': radians(tx), 'y': radians(ty), 'z': radians(tz)}\n",
    "    Rx = np.array([[1,0,0],\n",
    "                  [0, cos(A['x']), -sin(A['x'])],\n",
    "                  [0, sin(A['x']), cos(A['x'])]])\n",
    "\n",
    "    Ry = np.array([[cos(A['y']),0,sin(A['y'])],\n",
    "                  [0, 1, 0],\n",
    "                  [-sin(A['y']), 0, cos(A['y'])]])\n",
    "\n",
    "    Rz = np.array([[cos(A['z']),-sin(A['z']),0],\n",
    "                  [sin(A['z']), cos(A['z']), 0],\n",
    "                  [0, 0, 1]])\n",
    "    #generalize rotation matrix\n",
    "    R = np.dot(np.dot(Rx, Ry), Rz)\n",
    "    newcube = np.dot(cube, R)\n",
    "    return newcube"
   ]
  },
  {
   "cell_type": "code",
   "execution_count": 42,
   "metadata": {},
   "outputs": [],
   "source": [
    "def pCube(cube):\n",
    "    #pCube is a function to transform 8 cordinate points of a cube (3d) into the projected cordintes\n",
    "    Pcube = np.zeros(shape = cube.shape)\n",
    "    for i in range(cube.shape[0]):\n",
    "        Pcube[i] = perspective(cube[i])\n",
    "    return Pcube"
   ]
  },
  {
   "cell_type": "code",
   "execution_count": 60,
   "metadata": {},
   "outputs": [
    {
     "data": {
      "image/png": "[encoded data removed]",
      "text/plain": [
       "<Figure size 432x288 with 1 Axes>"
      ]
     },
     "metadata": {
      "needs_background": "light"
     },
     "output_type": "display_data"
    },
    {
     "data": {
      "image/png": "[encoded data removed]",
      "text/plain": [
       "<Figure size 432x288 with 1 Axes>"
      ]
     },
     "metadata": {
      "needs_background": "light"
     },
     "output_type": "display_data"
    }
   ],
   "source": [
    "#define and project in perspective\n",
    "a = 10\n",
    "cube  = np.array([[0,1,1],\n",
    "                 [1,1,1],\n",
    "                 [1,0,1],\n",
    "                 [0,0,1],\n",
    "                 [0,1,0],\n",
    "                 [1,1,0],\n",
    "                 [1,0,0],\n",
    "                 [0,0,0]])\n",
    "cube = a*cube\n",
    "cube = cube - a/2\n",
    "\n",
    "Prp = np.array([0,0,-30])\n",
    "\n",
    "Z_vp = 100\n",
    "\n",
    "plt.figure('Original Cube')\n",
    "Pcube = pCube(cube)\n",
    "drawcube(Pcube)\n",
    "\n",
    "plt.figure('Rotated Cuube')\n",
    "newcube = rotate(0,0,0,cube)\n",
    "Pcube = pCube(newcube)\n",
    "drawcube(Pcube)"
   ]
  },
  {
   "cell_type": "code",
   "execution_count": 51,
   "metadata": {},
   "outputs": [
    {
     "name": "stdout",
     "output_type": "stream",
     "text": [
      "34\n"
     ]
    }
   ],
   "source": [
    "\n",
    "\n"
   ]
  },
  {
   "cell_type": "code",
   "execution_count": null,
   "metadata": {},
   "outputs": [],
   "source": []
  }
 ],
 "metadata": {
  "kernelspec": {
   "display_name": "Python 3",
   "language": "python",
   "name": "python3"
  },
  "language_info": {
   "codemirror_mode": {
    "name": "ipython",
    "version": 3
   },
   "file_extension": ".py",
   "mimetype": "text/x-python",
   "name": "python",
   "nbconvert_exporter": "python",
   "pygments_lexer": "ipython3",
   "version": "3.7.0"
  }
 },
 "nbformat": 4,
 "nbformat_minor": 2
}
